{
 "cells": [
  {
   "cell_type": "markdown",
   "metadata": {},
   "source": [
    "# Пример верификации человека на фотографии с помощью библиотеки dlib\n",
    "\n",
    "**Верификация** - это задача определения, находится ли на изображении нужный нам человек, или нет. \n",
    "\n",
    "Мы будем решать задачу верификации человека на двух фотографиях. Нам нужно будет определить, один человек изображен на двух фотографиях, или нет."
   ]
  },
  {
   "cell_type": "code",
   "execution_count": 1,
   "metadata": {
    "collapsed": false
   },
   "outputs": [],
   "source": [
    "import dlib\n",
    "from skimage import io\n",
    "from scipy.spatial import distance"
   ]
  },
  {
   "cell_type": "markdown",
   "metadata": {},
   "source": [
    "# Создаем модели для поиска и нахождения лиц в dlib\n",
    "\n",
    "Предварительно обученные модели можно скачать по ссылкам:\n",
    "- http://dlib.net/files/shape_predictor_68_face_landmarks.dat.bz2\n",
    "- http://dlib.net/files/dlib_face_recognition_resnet_model_v1.dat.bz2\n",
    "\n",
    "Файлы с моделями нужно разархивировать и положить в каталог с этим notebook"
   ]
  },
  {
   "cell_type": "code",
   "execution_count": 2,
   "metadata": {
    "collapsed": false
   },
   "outputs": [],
   "source": [
    "sp = dlib.shape_predictor('shape_predictor_68_face_landmarks.dat')\n",
    "facerec = dlib.face_recognition_model_v1('dlib_face_recognition_resnet_model_v1.dat')\n",
    "detector = dlib.get_frontal_face_detector()"
   ]
  },
  {
   "cell_type": "markdown",
   "metadata": {
    "collapsed": true
   },
   "source": [
    "Загружаем первую фотографию"
   ]
  },
  {
   "cell_type": "code",
   "execution_count": 3,
   "metadata": {
    "collapsed": false
   },
   "outputs": [],
   "source": [
    "\n",
    "img = io.imread('tolmachev_photo_main.png')"
   ]
  },
  {
   "cell_type": "markdown",
   "metadata": {},
   "source": [
    "Показываем фотографию средствами dlib"
   ]
  },
  {
   "cell_type": "code",
   "execution_count": 7,
   "metadata": {
    "collapsed": false
   },
   "outputs": [],
   "source": [
    "win1 = dlib.image_window()\n",
    "win1.clear_overlay()\n",
    "win1.set_image(img)"
   ]
  },
  {
   "cell_type": "markdown",
   "metadata": {},
   "source": [
    "# Находим лицо на фотографии"
   ]
  },
  {
   "cell_type": "code",
   "execution_count": 10,
   "metadata": {
    "collapsed": true
   },
   "outputs": [],
   "source": [
    "dets = detector(img, 1)"
   ]
  },
  {
   "cell_type": "code",
   "execution_count": 11,
   "metadata": {
    "collapsed": false
   },
   "outputs": [
    {
     "name": "stdout",
     "output_type": "stream",
     "text": [
      "Detection 0: Left: 99 Top: 180 Right: 339 Bottom: 419\n"
     ]
    }
   ],
   "source": [
    "for k, d in enumerate(dets):\n",
    "    print(\"Detection {}: Left: {} Top: {} Right: {} Bottom: {}\".format(\n",
    "        k, d.left(), d.top(), d.right(), d.bottom()))\n",
    "    shape = sp(img, d)\n",
    "    win1.clear_overlay()\n",
    "    win1.add_overlay(d)\n",
    "    win1.add_overlay(shape)"
   ]
  },
  {
   "cell_type": "markdown",
   "metadata": {},
   "source": [
    "# Извлекаем дескриптор из лица"
   ]
  },
  {
   "cell_type": "code",
   "execution_count": 12,
   "metadata": {
    "collapsed": true
   },
   "outputs": [],
   "source": [
    "face_descriptor1 = facerec.compute_face_descriptor(img, shape)"
   ]
  },
  {
   "cell_type": "markdown",
   "metadata": {},
   "source": [
    "Печатаем дексриптор"
   ]
  },
  {
   "cell_type": "code",
   "execution_count": 13,
   "metadata": {
    "collapsed": false
   },
   "outputs": [
    {
     "name": "stdout",
     "output_type": "stream",
     "text": [
      "-0.0611149\n",
      "0.0249525\n",
      "-0.000957788\n",
      "-0.0449277\n",
      "-0.161448\n",
      "-0.00714038\n",
      "-0.0327555\n",
      "-0.0909336\n",
      "0.140035\n",
      "-0.0856113\n",
      "0.217394\n",
      "0.0684908\n",
      "-0.218791\n",
      "-0.119372\n",
      "0.120317\n",
      "0.0353338\n",
      "-0.0139818\n",
      "-0.238386\n",
      "-0.0807835\n",
      "-0.0491739\n",
      "-0.0230527\n",
      "0.0460943\n",
      "-0.0182341\n",
      "0.0189208\n",
      "-0.17231\n",
      "-0.418592\n",
      "-0.150416\n",
      "-0.0220867\n",
      "0.0460325\n",
      "-0.0962112\n",
      "-0.0145622\n",
      "0.168191\n",
      "-0.135523\n",
      "-0.0799423\n",
      "0.0931135\n",
      "0.130564\n",
      "-0.0394042\n",
      "-0.0486046\n",
      "0.204009\n",
      "0.0343715\n",
      "-0.195372\n",
      "0.0267417\n",
      "0.0465515\n",
      "0.29625\n",
      "0.195404\n",
      "0.0221891\n",
      "0.0855864\n",
      "-0.0395427\n",
      "0.115974\n",
      "-0.216791\n",
      "0.160194\n",
      "0.178384\n",
      "0.149463\n",
      "0.026966\n",
      "0.0925534\n",
      "-0.10373\n",
      "-0.0529957\n",
      "0.111045\n",
      "-0.192299\n",
      "0.0577856\n",
      "0.0428513\n",
      "-0.0848934\n",
      "-0.14229\n",
      "-0.14501\n",
      "0.184316\n",
      "0.099538\n",
      "-0.112281\n",
      "-0.166876\n",
      "0.187899\n",
      "-0.153394\n",
      "-0.134306\n",
      "0.078928\n",
      "-0.192035\n",
      "-0.162455\n",
      "-0.25481\n",
      "0.12544\n",
      "0.359736\n",
      "0.122809\n",
      "-0.206768\n",
      "0.0672324\n",
      "0.0106257\n",
      "-0.0352766\n",
      "-0.0297361\n",
      "0.0602642\n",
      "-0.0543438\n",
      "-0.0379638\n",
      "-0.083263\n",
      "0.0726135\n",
      "0.252924\n",
      "0.0348121\n",
      "-0.0395783\n",
      "0.209981\n",
      "0.0289834\n",
      "0.100718\n",
      "0.0946804\n",
      "0.09606\n",
      "-0.0326627\n",
      "-0.0580576\n",
      "-0.15569\n",
      "-0.0310582\n",
      "0.12913\n",
      "-0.0528513\n",
      "-0.0108405\n",
      "0.155224\n",
      "-0.138108\n",
      "0.245436\n",
      "-0.0281192\n",
      "0.0330448\n",
      "0.0471946\n",
      "-0.038064\n",
      "-0.0766311\n",
      "-0.0645388\n",
      "0.135285\n",
      "-0.256373\n",
      "0.155578\n",
      "0.119857\n",
      "0.0456911\n",
      "0.10969\n",
      "0.0533275\n",
      "0.0303456\n",
      "0.0257567\n",
      "-0.0542878\n",
      "-0.235734\n",
      "-0.101736\n",
      "0.0681352\n",
      "-0.0458385\n",
      "-0.00917571\n",
      "0.0575701\n"
     ]
    }
   ],
   "source": [
    "print(face_descriptor1)"
   ]
  },
  {
   "cell_type": "markdown",
   "metadata": {},
   "source": [
    "# Загружаем и обрабатываем вторую фотографию"
   ]
  },
  {
   "cell_type": "code",
   "execution_count": 15,
   "metadata": {
    "collapsed": false
   },
   "outputs": [
    {
     "name": "stdout",
     "output_type": "stream",
     "text": [
      "Detection 0: Left: 409 Top: 201 Right: 676 Bottom: 468\n"
     ]
    }
   ],
   "source": [
    "img = io.imread('bad_tolmachev.jpg')\n",
    "win2 = dlib.image_window()\n",
    "win2.clear_overlay()\n",
    "win2.set_image(img)\n",
    "dets_webcam = detector(img, 1)\n",
    "for k, d in enumerate(dets_webcam):\n",
    "    print(\"Detection {}: Left: {} Top: {} Right: {} Bottom: {}\".format(\n",
    "        k, d.left(), d.top(), d.right(), d.bottom()))\n",
    "    shape = sp(img, d)\n",
    "    win2.clear_overlay()\n",
    "    win2.add_overlay(d)\n",
    "    win2.add_overlay(shape)\n"
   ]
  },
  {
   "cell_type": "code",
   "execution_count": 16,
   "metadata": {
    "collapsed": true
   },
   "outputs": [],
   "source": [
    "face_descriptor2 = facerec.compute_face_descriptor(img, shape)"
   ]
  },
  {
   "cell_type": "markdown",
   "metadata": {},
   "source": [
    "# Рассчитываем Евклидово расстояние между двумя дексрипторами лиц\n",
    "\n",
    "В dlib рекомендуется использовать граничное значение Евклидова расстояния между дескрипторами лиц равное 0.6. Если Евклидово расстояние меньше 0.6, значит фотографии принадлежат одному человеку. \n",
    "\n",
    "С использованием такой метрики dlib обеспечивает точность 99.38% на тесте распознавания лиц Labeled Faces in the Wild. Подробности можно посмотреть по ссылке - http://dlib.net/face_recognition.py.html"
   ]
  },
  {
   "cell_type": "code",
   "execution_count": 17,
   "metadata": {
    "collapsed": false
   },
   "outputs": [
    {
     "name": "stdout",
     "output_type": "stream",
     "text": [
      "0.008476330693096881\n"
     ]
    }
   ],
   "source": [
    "a = distance.euclidean(face_descriptor1, face_descriptor2)\n",
    "print(a)"
   ]
  },
  {
   "cell_type": "code",
   "execution_count": null,
   "metadata": {
    "collapsed": true
   },
   "outputs": [],
   "source": []
  }
 ],
 "metadata": {
  "kernelspec": {
   "display_name": "Python 3",
   "language": "python",
   "name": "python3"
  },
  "language_info": {
   "codemirror_mode": {
    "name": "ipython",
    "version": 3
   },
   "file_extension": ".py",
   "mimetype": "text/x-python",
   "name": "python",
   "nbconvert_exporter": "python",
   "pygments_lexer": "ipython3",
   "version": "3.6.0"
  }
 },
 "nbformat": 4,
 "nbformat_minor": 2
}
